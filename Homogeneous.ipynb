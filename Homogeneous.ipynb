{
 "cells": [
  {
   "cell_type": "markdown",
   "metadata": {},
   "source": [
    "# Public Health Model (Homogeneous)"
   ]
  },
  {
   "cell_type": "code",
   "execution_count": null,
   "metadata": {},
   "outputs": [],
   "source": [
    "# Import packages\n",
    "import numpy as np\n",
    "from scipy.integrate import solve_ivp\n",
    "import pandas as pd\n",
    "import matplotlib.pyplot as plt\n",
    "import csv\n",
    "import seaborn as sns\n",
    "import os"
   ]
  },
  {
   "cell_type": "code",
   "execution_count": null,
   "metadata": {},
   "outputs": [],
   "source": [
    "# Set up folder structure\n",
    "# Create inputs folder if it doesn't exist\n",
    "if not os.path.exists(os.path.join(os.getcwd(), 'homogeneous/inputs')):\n",
    "    os.makedirs(os.path.join(os.getcwd(), 'homogeneous/inputs'))\n",
    "# Create output folder if it doesn't exist\n",
    "if not os.path.exists(os.path.join(os.getcwd(), 'homogeneous/outputs')):\n",
    "    os.makedirs(os.path.join(os.getcwd(), 'homogeneous/outputs'))\n",
    "# Create output subfolders if they don't exist\n",
    "if not os.path.exists(os.path.join(os.getcwd(), 'homogeneous/outputs/S1')):\n",
    "    os.makedirs(os.path.join(os.getcwd(), 'homogeneous/outputs/S1'))\n",
    "if not os.path.exists(os.path.join(os.getcwd(), 'homogeneous/outputs/S2')):\n",
    "    os.makedirs(os.path.join(os.getcwd(), 'homogeneous/outputs/S2'))"
   ]
  },
  {
   "cell_type": "code",
   "execution_count": null,
   "metadata": {},
   "outputs": [],
   "source": [
    "# Influenza\n",
    "# Define the input parameters\n",
    "R0 = 1.5\n",
    "sigma = 1/2 # WHO estimate\n",
    "gamma = 1/5\n",
    "beta = R0*gamma\n",
    "d = 0.0001\n",
    "td = 7\n",
    "s1 = 0\n",
    "s2 = 0.5\n",
    "s3 = 0.5\n",
    "v = 0.005\n",
    "\n",
    "# Define the CSV file path and fieldnames\n",
    "csv_file = 'homogeneous/inputs/parameters_influenza.csv'\n",
    "fieldnames = ['R0', 'beta', 'sigma', 'gamma', 'd', 'td', 's1', 's2', 's3', 'v']\n",
    "\n",
    "# Write the input parameters to the CSV file\n",
    "with open(csv_file, mode='w', newline='') as file:\n",
    "    writer = csv.DictWriter(file, fieldnames=fieldnames)\n",
    "    writer.writeheader()\n",
    "    writer.writerow({'R0': R0, 'beta': beta, 'sigma': sigma, 'gamma': gamma, 'd': d, 'td': td, 's1': s1, 's2': s2, 's3': s3, 'v': v})"
   ]
  },
  {
   "cell_type": "code",
   "execution_count": null,
   "metadata": {},
   "outputs": [],
   "source": [
    "# SARS-CoV-2\n",
    "# Define the input parameters\n",
    "R0 = 3\n",
    "sigma = 1/5\n",
    "gamma = 1/7\n",
    "beta = R0*gamma\n",
    "d = 0.00638\n",
    "td = 7\n",
    "s1 = 0\n",
    "s2 = 0.5\n",
    "s3 = 0.5\n",
    "v = 0.005\n",
    "\n",
    "# Define the CSV file path and fieldnames\n",
    "csv_file = 'homogeneous/inputs/parameters_sarscov2.csv'\n",
    "fieldnames = ['R0', 'beta', 'sigma', 'gamma', 'd', 'td', 's1', 's2', 's3', 'v']\n",
    "\n",
    "# Write the input parameters to the CSV file\n",
    "with open(csv_file, mode='w', newline='') as file:\n",
    "    writer = csv.DictWriter(file, fieldnames=fieldnames)\n",
    "    writer.writeheader()\n",
    "    writer.writerow({'R0': R0, 'beta': beta, 'sigma': sigma, 'gamma': gamma, 'd': d, 'td': td, 's1': s1, 's2': s2, 's3': s3, 'v': v})"
   ]
  },
  {
   "cell_type": "code",
   "execution_count": null,
   "metadata": {},
   "outputs": [],
   "source": [
    "# Ebola\n",
    "# Define the input parameters\n",
    "R0 = 2\n",
    "sigma = 1/2\n",
    "gamma = 1/7\n",
    "beta = R0*gamma\n",
    "d = 0.39\n",
    "td = 7\n",
    "s1 = 0\n",
    "s2 = 0.5\n",
    "s3 = 0.5\n",
    "v = 0.005\n",
    "\n",
    "# Define the CSV file path and fieldnames\n",
    "csv_file = 'homogeneous/inputs/parameters_ebola.csv'\n",
    "fieldnames = ['R0', 'beta', 'sigma', 'gamma', 'd', 'td', 's1', 's2', 's3', 'v']\n",
    "\n",
    "# Write the input parameters to the CSV file\n",
    "with open(csv_file, mode='w', newline='') as file:\n",
    "    writer = csv.DictWriter(file, fieldnames=fieldnames)\n",
    "    writer.writeheader()\n",
    "    writer.writerow({'R0': R0, 'beta': beta, 'sigma': sigma, 'gamma': gamma, 'd': d, 'td': td, 's1': s1, 's2': s2, 's3': s3, 'v': v})"
   ]
  },
  {
   "cell_type": "markdown",
   "metadata": {},
   "source": [
    "Create jobs file"
   ]
  },
  {
   "cell_type": "code",
   "execution_count": null,
   "metadata": {},
   "outputs": [],
   "source": [
    "import itertools\n",
    "\n",
    "# Define the simulation parameters\n",
    "\n",
    "# Scenario 1\n",
    "# Cumulative outputs\n",
    "pathogen = ['sarscov2', 'ebola', 'influenza']\n",
    "memory_window = [0]\n",
    "behaviour_function = ['cases', 'deaths']\n",
    "# Resolution of 0.01\n",
    "r = [round(i, 3) for i in np.linspace(0, 2, 201)]\n",
    "alpha = [round(i, 3) for i in np.linspace(0, 2, 201)]\n",
    "vaccine_efficacy = [0.5]\n",
    "# Define the CSV file path and fieldnames\n",
    "csv_file = 'homogeneous/inputs/parameters_scenario1a.csv'\n",
    "fieldnames = ['pathogen', 'memory_window', 'behaviour_function', 'r', 'alpha', 'vaccine_efficacy']\n",
    "# Write the input parameters to the CSV file\n",
    "with open(csv_file, mode='w', newline='') as file:\n",
    "    writer = csv.DictWriter(file, fieldnames=fieldnames)\n",
    "    writer.writeheader()\n",
    "    for pathogen, memory_window, behaviour_function, r, alpha, vaccine_efficacy in itertools.product(pathogen, memory_window, behaviour_function, r, alpha, vaccine_efficacy):\n",
    "        writer.writerow({'pathogen': pathogen,'memory_window': memory_window,'behaviour_function': behaviour_function, 'r': r, 'alpha': alpha, 'vaccine_efficacy': vaccine_efficacy})\n",
    "# Temporal outputs\n",
    "pathogen = ['sarscov2', 'ebola', 'influenza']\n",
    "memory_window = [0]\n",
    "behaviour_function = ['cases', 'deaths']\n",
    "r = [round(i, 3) for i in [2]]\n",
    "alpha = [round(i, 3) for i in [2]]\n",
    "vaccine_efficacy = [0.5]\n",
    "# Define the CSV file path and fieldnames\n",
    "csv_file = 'homogeneous/inputs/parameters_scenario1b.csv'\n",
    "fieldnames = ['pathogen', 'memory_window', 'behaviour_function', 'r', 'alpha', 'vaccine_efficacy']\n",
    "# Write the input parameters to the CSV file\n",
    "with open(csv_file, mode='w', newline='') as file:\n",
    "    writer = csv.DictWriter(file, fieldnames=fieldnames)\n",
    "    writer.writeheader()\n",
    "    for pathogen, memory_window, behaviour_function, r, alpha, vaccine_efficacy in itertools.product(pathogen, memory_window, behaviour_function, r, alpha, vaccine_efficacy):\n",
    "        writer.writerow({'pathogen': pathogen,'memory_window': memory_window,'behaviour_function': behaviour_function, 'r': r, 'alpha': alpha, 'vaccine_efficacy': vaccine_efficacy})\n",
    "\n",
    "# Scenario 2\n",
    "# Cumulative outputs across memory window and vaccine efficacy\n",
    "pathogen = ['sarscov2', 'ebola', 'influenza']\n",
    "memory_window = [0, 1]\n",
    "behaviour_function = ['cases','deaths']\n",
    "r = [round(i, 1) for i in np.linspace(0, 2, 3)]\n",
    "alpha = [round(i, 1) for i in np.linspace(0, 2, 3)]\n",
    "vaccine_efficacy = [round(i, 2) for i in [0.25, 0.5, 0.9]]\n",
    "# Define the CSV file path and fieldnames\n",
    "csv_file = 'homogeneous/inputs/parameters_scenario2a.csv'\n",
    "fieldnames = ['pathogen', 'memory_window', 'behaviour_function', 'r', 'alpha', 'vaccine_efficacy']\n",
    "# Write the input parameters to the CSV file\n",
    "with open(csv_file, mode='w', newline='') as file:\n",
    "    writer = csv.DictWriter(file, fieldnames=fieldnames)\n",
    "    writer.writeheader()\n",
    "    for pathogen, memory_window, behaviour_function, r, alpha, vaccine_efficacy in itertools.product(pathogen, memory_window, behaviour_function, r, alpha, vaccine_efficacy):\n",
    "        writer.writerow({'pathogen': pathogen,'memory_window': memory_window,'behaviour_function': behaviour_function, 'r': r, 'alpha': alpha, 'vaccine_efficacy': vaccine_efficacy})\n",
    "# Cumulative outputs across vaccine efficacy and more levels of information sensitivity\n",
    "pathogen = ['sarscov2', 'ebola', 'influenza']\n",
    "memory_window = [0]\n",
    "behaviour_function = ['cases', 'deaths']\n",
    "r = [round(i, 1) for i in np.linspace(0, 2, 3)]\n",
    "alpha = [round(i, 1) for i in [0, 0.5, 1, 1.5, 2]]\n",
    "vaccine_efficacy = [round(i, 2) for i in [0.25, 0.5, 0.9]]\n",
    "# Define the CSV file path and fieldnames\n",
    "csv_file = 'homogeneous/inputs/parameters_scenario2b.csv'\n",
    "fieldnames = ['pathogen', 'memory_window', 'behaviour_function', 'r', 'alpha', 'vaccine_efficacy']\n",
    "# Write the input parameters to the CSV file\n",
    "with open(csv_file, mode='w', newline='') as file:\n",
    "    writer = csv.DictWriter(file, fieldnames=fieldnames)\n",
    "    writer.writeheader()\n",
    "    for pathogen, memory_window, behaviour_function, r, alpha, vaccine_efficacy in itertools.product(pathogen, memory_window,  behaviour_function, r, alpha, vaccine_efficacy):\n",
    "        writer.writerow({'pathogen': pathogen, 'memory_window': memory_window, 'behaviour_function': behaviour_function, 'r': r, 'alpha': alpha, 'vaccine_efficacy': vaccine_efficacy})"
   ]
  },
  {
   "cell_type": "code",
   "execution_count": null,
   "metadata": {},
   "outputs": [],
   "source": [
    "%run src/SEIRV_model_homogeneous.py"
   ]
  },
  {
   "cell_type": "markdown",
   "metadata": {},
   "source": [
    "Write initial conditions (ICs) to file"
   ]
  },
  {
   "cell_type": "code",
   "execution_count": null,
   "metadata": {},
   "outputs": [],
   "source": [
    "# Define the initial conditions\n",
    "S0 = 99999\n",
    "E0 = 0\n",
    "I0 = 1\n",
    "R0 = 0\n",
    "H0 = 0\n",
    "Sv0 = 0\n",
    "Ev0 = 0\n",
    "Iv0 = 0\n",
    "Rv0 = 0\n",
    "Hv0 = 0\n",
    "C0 = 1\n",
    "Cv0 = 0\n",
    "\n",
    "# Define the CSV file path and fieldnames\n",
    "csv_file = 'homogeneous/inputs/parameters_IC.csv'\n",
    "fieldnames = ['S0', 'E0', 'I0', 'R0', 'H0', 'Sv0', 'Ev0', 'Iv0', 'Rv0', 'Hv0', 'C0', 'Cv0']\n",
    "\n",
    "# Write the input parameters to the CSV file\n",
    "with open(csv_file, mode='w', newline='') as file:\n",
    "    writer = csv.DictWriter(file, fieldnames=fieldnames)\n",
    "    writer.writeheader()\n",
    "    writer.writerow({'S0': S0, 'E0': E0, 'I0': I0, 'R0': R0, 'H0': H0, 'Sv0': Sv0, 'Ev0': Ev0, 'Iv0': Iv0, 'Rv0': Rv0, 'Hv0': Hv0, 'C0': C0, 'Cv0': Cv0})"
   ]
  },
  {
   "cell_type": "markdown",
   "metadata": {},
   "source": [
    "Run model over simulation parameters"
   ]
  },
  {
   "cell_type": "code",
   "execution_count": null,
   "metadata": {},
   "outputs": [],
   "source": [
    "%run src/main_homogeneous.py"
   ]
  },
  {
   "cell_type": "markdown",
   "metadata": {},
   "source": [
    "Save outputs as csv files"
   ]
  },
  {
   "cell_type": "code",
   "execution_count": null,
   "metadata": {},
   "outputs": [],
   "source": [
    "# Save the results to a CSV file\n",
    "# df_results.to_csv('homogeneous/outputs/S1/resultsS1A.csv', index=False)\n",
    "# df_results.to_csv('homogeneous/outputs/S1/resultsS1B.csv', index=False)\n",
    "# df_results.to_csv('homogeneous/outputs/S2/resultsS2A.csv', index=False)\n",
    "# df_results.to_csv('homogeneous/outputs/S2/resultsS2B.csv', index=False)\n",
    "# df_temporal.to_csv('homogeneous/outputs/S1/temporalS1A.csv', index=False)\n",
    "# df_temporal.to_csv('homogeneous/outputs/S1/temporalS1B.csv', index=False)\n",
    "# df_temporal.to_csv('homogeneous/outputs/S2/temporalS2A.csv', index=False)\n",
    "# df_temporal.to_csv('homogeneous/outputs/S2/temporalS2B.csv', index=False)"
   ]
  }
 ],
 "metadata": {
  "kernelspec": {
   "display_name": "public-health-env",
   "language": "python",
   "name": "python3"
  },
  "language_info": {
   "codemirror_mode": {
    "name": "ipython",
    "version": 3
   },
   "file_extension": ".py",
   "mimetype": "text/x-python",
   "name": "python",
   "nbconvert_exporter": "python",
   "pygments_lexer": "ipython3",
   "version": "3.11.7"
  },
  "orig_nbformat": 4
 },
 "nbformat": 4,
 "nbformat_minor": 2
}

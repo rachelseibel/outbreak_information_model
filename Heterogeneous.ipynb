{
 "cells": [
  {
   "cell_type": "markdown",
   "metadata": {},
   "source": [
    "# Outbreak Information Model (Heterogeneous)"
   ]
  },
  {
   "cell_type": "code",
   "execution_count": null,
   "metadata": {},
   "outputs": [],
   "source": [
    "# Import packages\n",
    "import numpy as np\n",
    "from scipy.integrate import solve_ivp\n",
    "import pandas as pd\n",
    "import matplotlib.pyplot as plt\n",
    "import csv\n",
    "import seaborn as sns\n",
    "import os\n",
    "from itertools import product\n",
    "import itertools"
   ]
  },
  {
   "cell_type": "code",
   "execution_count": null,
   "metadata": {},
   "outputs": [],
   "source": [
    "# Set up folder structure\n",
    "# Create inputs folder if it doesn't exist\n",
    "if not os.path.exists(os.path.join(os.getcwd(), 'heterogeneous/inputs')):\n",
    "    os.makedirs(os.path.join(os.getcwd(), 'heterogeneous/inputs'))\n",
    "# Create output folder if it doesn't exist\n",
    "if not os.path.exists(os.path.join(os.getcwd(), 'heterogeneous/outputs')):\n",
    "    os.makedirs(os.path.join(os.getcwd(), 'heterogeneous/outputs'))\n",
    "# Create outputs subfolders if they don't exist\n",
    "if not os.path.exists(os.path.join(os.getcwd(), 'heterogeneous/outputs/S1')):\n",
    "    os.makedirs(os.path.join(os.getcwd(), 'heterogeneous/outputs/S1'))\n",
    "if not os.path.exists(os.path.join(os.getcwd(), 'heterogeneous/outputs/S2')):\n",
    "    os.makedirs(os.path.join(os.getcwd(), 'heterogeneous/outputs/S2'))"
   ]
  },
  {
   "cell_type": "markdown",
   "metadata": {},
   "source": [
    "Create input files"
   ]
  },
  {
   "cell_type": "code",
   "execution_count": null,
   "metadata": {},
   "outputs": [],
   "source": [
    "# Influenza\n",
    "# Define the input parameters\n",
    "R0 = 1.5\n",
    "sigma = 1/2\n",
    "gamma = 1/5\n",
    "beta = R0*gamma\n",
    "d = 0.0001\n",
    "td = 7\n",
    "s1 = 0\n",
    "s2 = 0.5\n",
    "s3 = 0.5\n",
    "v = 0.005\n",
    "\n",
    "# Define the CSV file path and fieldnames\n",
    "csv_file = 'heterogeneous/inputs/parameters_influenza.csv'\n",
    "fieldnames = ['R0', 'beta', 'sigma', 'gamma', 'd', 'td', 's1', 's2', 's3', 'v']\n",
    "\n",
    "# Write the input parameters to the CSV file\n",
    "with open(csv_file, mode='w', newline='') as file:\n",
    "    writer = csv.DictWriter(file, fieldnames=fieldnames)\n",
    "    writer.writeheader()\n",
    "    writer.writerow({'R0': R0, 'beta': beta, 'sigma': sigma, 'gamma': gamma, 'd': d, 'td': td, 's1': s1, 's2': s2, 's3': s3, 'v': v})"
   ]
  },
  {
   "cell_type": "code",
   "execution_count": null,
   "metadata": {},
   "outputs": [],
   "source": [
    "# SARS-CoV-2\n",
    "# Define the input parameters\n",
    "R0 = 3\n",
    "sigma = 1/5\n",
    "gamma = 1/7\n",
    "beta = R0*gamma\n",
    "d = 0.00638\n",
    "td = 7\n",
    "s1 = 0\n",
    "s2 = 0.5\n",
    "s3 = 0.5\n",
    "v = 0.005\n",
    "\n",
    "# Define the CSV file path and fieldnames\n",
    "csv_file = 'heterogeneous/inputs/parameters_sarscov2.csv'\n",
    "fieldnames = ['R0', 'beta', 'sigma', 'gamma', 'd', 'td', 's1', 's2', 's3', 'v']\n",
    "\n",
    "# Write the input parameters to the CSV file\n",
    "with open(csv_file, mode='w', newline='') as file:\n",
    "    writer = csv.DictWriter(file, fieldnames=fieldnames)\n",
    "    writer.writeheader()\n",
    "    writer.writerow({'R0': R0, 'beta': beta, 'sigma': sigma, 'gamma': gamma, 'd': d, 'td': td, 's1': s1, 's2': s2, 's3': s3, 'v': v})"
   ]
  },
  {
   "cell_type": "code",
   "execution_count": null,
   "metadata": {},
   "outputs": [],
   "source": [
    "# Ebola\n",
    "# Define the input parameters\n",
    "R0 = 2\n",
    "sigma = 1/2\n",
    "gamma = 1/7\n",
    "beta = R0*gamma\n",
    "d = 0.39\n",
    "td = 7\n",
    "s1 = 0\n",
    "s2 = 0.5\n",
    "s3 = 0.5\n",
    "v = 0.005\n",
    "\n",
    "# Define the CSV file path and fieldnames\n",
    "csv_file = 'heterogeneous/inputs/parameters_ebola.csv'\n",
    "fieldnames = ['R0', 'beta', 'sigma', 'gamma', 'd', 'td', 's1', 's2', 's3', 'v']\n",
    "\n",
    "# Write the input parameters to the CSV file\n",
    "with open(csv_file, mode='w', newline='') as file:\n",
    "    writer = csv.DictWriter(file, fieldnames=fieldnames)\n",
    "    writer.writeheader()\n",
    "    writer.writerow({'R0': R0, 'beta': beta, 'sigma': sigma, 'gamma': gamma, 'd': d, 'td': td, 's1': s1, 's2': s2, 's3': s3, 'v': v})"
   ]
  },
  {
   "cell_type": "markdown",
   "metadata": {},
   "source": [
    "Create jobs file"
   ]
  },
  {
   "cell_type": "code",
   "execution_count": null,
   "metadata": {},
   "outputs": [],
   "source": [
    "num_groups = 3\n",
    "group_res = 0.05\n",
    "\n",
    "# Scenario 1\n",
    "# Cumulative outputs across information sensitivity and behaviour function\n",
    "pathogen = ['sarscov2', 'ebola', 'influenza']\n",
    "memory_window = [0]\n",
    "behaviour_function = ['cases_within', 'deaths_within']\n",
    "vector = np.arange(0, 1.05, 0.05)\n",
    "combos = np.array(list(itertools.product(vector, repeat=3)))\n",
    "split = combos[np.round(np.sum(combos, axis=1), 2) == 1]\n",
    "split = split.tolist()\n",
    "r = [round(i, 1) for i in np.linspace(0, 2, 3)]\n",
    "alpha = [round(i, 1) for i in [0.1, 1, 2]]\n",
    "vaccine_efficacy = [0.5]\n",
    "# Define the CSV file path and fieldnames\n",
    "csv_file = 'heterogeneous/inputs/parameters_scenario1.csv'\n",
    "fieldnames = ['pathogen', 'split', 'memory_window', 'behaviour_function', 'r', 'alpha', 'vaccine_efficacy']\n",
    "# Write the input parameters to the CSV file\n",
    "with open(csv_file, mode='w', newline='') as file:\n",
    "    writer = csv.DictWriter(file, fieldnames=fieldnames)\n",
    "    writer.writeheader()\n",
    "    for pathogen, split, memory_window, behaviour_function, alpha, vaccine_efficacy in itertools.product(pathogen, split, memory_window,  behaviour_function, alpha, vaccine_efficacy):\n",
    "        writer.writerow({'pathogen': pathogen, 'split': split, 'memory_window': memory_window, 'behaviour_function': behaviour_function, 'r': r, 'alpha': alpha, 'vaccine_efficacy': vaccine_efficacy})\n",
    "\n",
    "# Cumulative outputs across memory window and vaccine efficacy\n",
    "pathogen = ['sarscov2', 'ebola', 'influenza']\n",
    "memory_window = [0,1]\n",
    "behaviour_function = ['cases_within', 'deaths_within']\n",
    "vector = np.arange(0, 1.05, 0.05)\n",
    "combos = np.array(list(itertools.product(vector, repeat=3)))\n",
    "split = combos[np.round(np.sum(combos, axis=1), 2) == 1]\n",
    "split = split.tolist()\n",
    "r = [round(i, 1) for i in np.linspace(0, 2, 3)]\n",
    "alpha = [round(i, 1) for i in [0.1,1,2]]\n",
    "vaccine_efficacy = [round(i, 2) for i in [0.25, 0.5, 0.9]]\n",
    "# Define the CSV file path and fieldnames\n",
    "csv_file = 'heterogeneous/inputs/parameters_scenario2a.csv'\n",
    "fieldnames = ['pathogen', 'split', 'memory_window', 'behaviour_function', 'r', 'alpha', 'vaccine_efficacy']\n",
    "# Write the input parameters to the CSV file\n",
    "with open(csv_file, mode='w', newline='') as file:\n",
    "    writer = csv.DictWriter(file, fieldnames=fieldnames)\n",
    "    writer.writeheader()\n",
    "    for pathogen, split, memory_window, behaviour_function, alpha, vaccine_efficacy in itertools.product(pathogen, split, memory_window,  behaviour_function, alpha, vaccine_efficacy):\n",
    "        writer.writerow({'pathogen': pathogen, 'split': split, 'memory_window': memory_window, 'behaviour_function': behaviour_function, 'r': r, 'alpha': alpha, 'vaccine_efficacy': vaccine_efficacy})\n",
    "\n",
    "# Temporal outputs across behavioural configurations, information sensitivity and vaccine efficacy\n",
    "pathogen = ['sarscov2', 'ebola', 'influenza']\n",
    "memory_window = [0]\n",
    "behaviour_function = ['cases_within', 'deaths_within']\n",
    "split = [[0.5, 0.5, 0.0], [0.5, 0.0, 0.5], [0.0, 0.5, 0.5], [(1/3), (1/3), (1/3)]]\n",
    "r = [round(i, 1) for i in np.linspace(0, 2, 3)]\n",
    "alpha = [round(i, 1) for i in np.linspace(0, 2, 5)]\n",
    "vaccine_efficacy = [round(i, 2) for i in [0.25, 0.5, 0.9]]\n",
    "# Define the CSV file path and fieldnames\n",
    "csv_file = 'heterogeneous/inputs/parameters_scenario2b.csv'\n",
    "fieldnames = ['pathogen', 'split', 'memory_window', 'behaviour_function', 'r', 'alpha', 'vaccine_efficacy']\n",
    "# Write the input parameters to the CSV file\n",
    "with open(csv_file, mode='w', newline='') as file:\n",
    "    writer = csv.DictWriter(file, fieldnames=fieldnames)\n",
    "    writer.writeheader()\n",
    "    for pathogen, split, memory_window, behaviour_function, alpha, vaccine_efficacy in itertools.product(pathogen, split, memory_window,  behaviour_function, alpha, vaccine_efficacy):\n",
    "        writer.writerow({'pathogen': pathogen, 'split': split, 'memory_window': memory_window, 'behaviour_function': behaviour_function, 'r': r, 'alpha': alpha, 'vaccine_efficacy': vaccine_efficacy})"
   ]
  },
  {
   "cell_type": "code",
   "execution_count": null,
   "metadata": {},
   "outputs": [],
   "source": [
    "%run src/SEIRV_model_heterogeneous.py"
   ]
  },
  {
   "cell_type": "markdown",
   "metadata": {},
   "source": [
    "Write initial conditions (ICs) to file"
   ]
  },
  {
   "cell_type": "code",
   "execution_count": null,
   "metadata": {},
   "outputs": [],
   "source": [
    "# Define the initial conditions\n",
    "num_inf = 1\n",
    "N = 100000\n",
    "\n",
    "# Create a list of the initial conditions for each group\n",
    "S0 = [N-num_inf] * num_groups\n",
    "E0 = [0] * num_groups\n",
    "I0 = [num_inf] * num_groups\n",
    "R0 = [0] * num_groups\n",
    "H0 = [0] * num_groups\n",
    "Sv0 = [0] * num_groups\n",
    "Ev0 = [0] * num_groups\n",
    "Iv0 = [0] * num_groups\n",
    "Rv0 = [0] * num_groups\n",
    "Hv0 = [0] * num_groups\n",
    "C0 = [1] * num_groups\n",
    "Cv0 = [0] * num_groups\n",
    "\n",
    "# Define the CSV file path and fieldnames\n",
    "csv_file = 'heterogeneous/inputs/parameters_IC.csv'\n",
    "fieldnames = ['S0', 'E0', 'I0', 'R0', 'H0', 'Sv0', 'Ev0', 'Iv0', 'Rv0', 'Hv0', 'C0', 'Cv0']\n",
    "\n",
    "# Write the input parameters to the CSV file\n",
    "with open(csv_file, mode='w', newline='') as file:\n",
    "    writer = csv.DictWriter(file, fieldnames=fieldnames)\n",
    "    writer.writeheader()\n",
    "    writer.writerow({'S0': S0, 'E0': E0, 'I0': I0, 'R0': R0, 'H0': H0, 'Sv0': Sv0, 'Ev0': Ev0, 'Iv0': Iv0, 'Rv0': Rv0, 'Hv0': Hv0, 'C0': C0, 'Cv0': Cv0})"
   ]
  },
  {
   "cell_type": "markdown",
   "metadata": {},
   "source": [
    "Run model over simulation parameters"
   ]
  },
  {
   "cell_type": "code",
   "execution_count": null,
   "metadata": {},
   "outputs": [],
   "source": [
    "%run src/main_heterogeneous.py"
   ]
  },
  {
   "cell_type": "markdown",
   "metadata": {},
   "source": [
    "Save outputs as csv files"
   ]
  },
  {
   "cell_type": "code",
   "execution_count": null,
   "metadata": {},
   "outputs": [],
   "source": [
    "# Save the results to a CSV file\n",
    "# df_results.to_csv('heterogeneous/outputs/S1/results1.csv', index=False)\n",
    "# df_results.to_csv('heterogeneous/outputs/S2/results2A.csv', index=False)\n",
    "# df_results.to_csv('heterogeneous/outputs/S2/results2B.csv', index=False)\n",
    "# df_temporal.to_csv('heterogeneous/outputs/S1/temporal1.csv', index=False)\n",
    "# df_temporal.to_csv('heterogeneous/outputs/S2/temporal2A.csv', index=False)\n",
    "# df_temporal.to_csv('heterogeneous/outputs/S2/temporal2B.csv', index=False)"
   ]
  }
 ],
 "metadata": {
  "kernelspec": {
   "display_name": "public-health-env",
   "language": "python",
   "name": "python3"
  },
  "language_info": {
   "codemirror_mode": {
    "name": "ipython",
    "version": 3
   },
   "file_extension": ".py",
   "mimetype": "text/x-python",
   "name": "python",
   "nbconvert_exporter": "python",
   "pygments_lexer": "ipython3",
   "version": "3.11.7"
  },
  "orig_nbformat": 4
 },
 "nbformat": 4,
 "nbformat_minor": 2
}

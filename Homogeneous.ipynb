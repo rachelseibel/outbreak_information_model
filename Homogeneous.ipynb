{
 "cells": [
  {
   "cell_type": "markdown",
   "metadata": {},
   "source": [
    "# Public Health Model (Homogeneous)"
   ]
  },
  {
   "cell_type": "code",
   "execution_count": 1,
   "metadata": {},
   "outputs": [],
   "source": [
    "# Import packages\n",
    "import numpy as np\n",
    "from scipy.integrate import solve_ivp\n",
    "import pandas as pd\n",
    "import matplotlib.pyplot as plt\n",
    "import csv\n",
    "import seaborn as sns"
   ]
  },
  {
   "cell_type": "code",
   "execution_count": 2,
   "metadata": {},
   "outputs": [],
   "source": [
    "# Influenza\n",
    "# Define the input parameters\n",
    "R0 = 1.5\n",
    "sigma = 1/2 # WHO estimate\n",
    "gamma = 1/5\n",
    "beta = R0*gamma\n",
    "d = 0.0001\n",
    "td = 7\n",
    "s1 = 0\n",
    "s2 = 0.5\n",
    "s3 = 0.5\n",
    "v = 0.005\n",
    "\n",
    "# Define the CSV file path and fieldnames\n",
    "csv_file = 'homogeneous/inputs/parameters_influenza.csv'\n",
    "fieldnames = ['R0', 'beta', 'sigma', 'gamma', 'd', 'td', 's1', 's2', 's3', 'v']\n",
    "\n",
    "# Write the input parameters to the CSV file\n",
    "with open(csv_file, mode='w', newline='') as file:\n",
    "    writer = csv.DictWriter(file, fieldnames=fieldnames)\n",
    "    writer.writeheader()\n",
    "    writer.writerow({'R0': R0, 'beta': beta, 'sigma': sigma, 'gamma': gamma, 'd': d, 'td': td, 's1': s1, 's2': s2, 's3': s3, 'v': v})"
   ]
  },
  {
   "cell_type": "code",
   "execution_count": 3,
   "metadata": {},
   "outputs": [],
   "source": [
    "# SARS-CoV-2\n",
    "# Define the input parameters\n",
    "R0 = 3\n",
    "sigma = 1/5\n",
    "gamma = 1/7\n",
    "beta = R0*gamma\n",
    "d = 0.00638\n",
    "td = 7\n",
    "s1 = 0\n",
    "s2 = 0.5\n",
    "s3 = 0.5\n",
    "v = 0.005\n",
    "\n",
    "# Define the CSV file path and fieldnames\n",
    "csv_file = 'homogeneous/inputs/parameters_sarscov2.csv'\n",
    "fieldnames = ['R0', 'beta', 'sigma', 'gamma', 'd', 'td', 's1', 's2', 's3', 'v']\n",
    "\n",
    "# Write the input parameters to the CSV file\n",
    "with open(csv_file, mode='w', newline='') as file:\n",
    "    writer = csv.DictWriter(file, fieldnames=fieldnames)\n",
    "    writer.writeheader()\n",
    "    writer.writerow({'R0': R0, 'beta': beta, 'sigma': sigma, 'gamma': gamma, 'd': d, 'td': td, 's1': s1, 's2': s2, 's3': s3, 'v': v})"
   ]
  },
  {
   "cell_type": "code",
   "execution_count": 4,
   "metadata": {},
   "outputs": [],
   "source": [
    "# Ebola\n",
    "# Define the input parameters\n",
    "R0 = 2\n",
    "sigma = 1/2\n",
    "gamma = 1/7\n",
    "beta = R0*gamma\n",
    "d = 0.39\n",
    "td = 7\n",
    "s1 = 0\n",
    "s2 = 0.5\n",
    "s3 = 0.5\n",
    "v = 0.005\n",
    "\n",
    "# Define the CSV file path and fieldnames\n",
    "csv_file = 'homogeneous/inputs/parameters_ebola.csv'\n",
    "fieldnames = ['R0', 'beta', 'sigma', 'gamma', 'd', 'td', 's1', 's2', 's3', 'v']\n",
    "\n",
    "# Write the input parameters to the CSV file\n",
    "with open(csv_file, mode='w', newline='') as file:\n",
    "    writer = csv.DictWriter(file, fieldnames=fieldnames)\n",
    "    writer.writeheader()\n",
    "    writer.writerow({'R0': R0, 'beta': beta, 'sigma': sigma, 'gamma': gamma, 'd': d, 'td': td, 's1': s1, 's2': s2, 's3': s3, 'v': v})"
   ]
  },
  {
   "cell_type": "markdown",
   "metadata": {},
   "source": [
    "Create jobs file"
   ]
  },
  {
   "cell_type": "code",
   "execution_count": 5,
   "metadata": {},
   "outputs": [],
   "source": [
    "import itertools\n",
    "\n",
    "# Define the simulation parameters (jobs)\n",
    "\n",
    "# Run a large number of ratio of opinion to cost\n",
    "pathogen = ['sarscov2', 'ebola', 'influenza']\n",
    "memory_window = [0]\n",
    "behaviour_function = ['cases', 'deaths']\n",
    "# Resolution of 0.01\n",
    "r = [round(i, 3) for i in np.linspace(0, 2, 201)]\n",
    "alpha = [round(i, 3) for i in np.linspace(0, 2, 201)]\n",
    "vaccine_efficacy = [0.5]\n",
    "# Define the CSV file path and fieldnames\n",
    "csv_file = 'homogeneous/inputs/parameters_scenario1a.csv'\n",
    "fieldnames = ['pathogen', 'memory_window', 'behaviour_function', 'r', 'alpha', 'vaccine_efficacy']\n",
    "# Write the input parameters to the CSV file\n",
    "with open(csv_file, mode='w', newline='') as file:\n",
    "    writer = csv.DictWriter(file, fieldnames=fieldnames)\n",
    "    writer.writeheader()\n",
    "    for pathogen, memory_window, behaviour_function, r, alpha, vaccine_efficacy in itertools.product(pathogen, memory_window, behaviour_function, r, alpha, vaccine_efficacy):\n",
    "        writer.writerow({'pathogen': pathogen,'memory_window': memory_window,'behaviour_function': behaviour_function, 'r': r, 'alpha': alpha, 'vaccine_efficacy': vaccine_efficacy})\n",
    "\n",
    "# Explore boundaries (temporal)\n",
    "\n",
    "# Run a large number of ratio of opinion to cost\n",
    "pathogen = ['sarscov2', 'ebola', 'influenza']\n",
    "memory_window = [0]\n",
    "behaviour_function = ['cases', 'deaths']\n",
    "# Resolution of 0.001\n",
    "r = [round(i, 3) for i in [2]]\n",
    "alpha = [round(i, 3) for i in [2]]\n",
    "vaccine_efficacy = [0.5]\n",
    "# Define the CSV file path and fieldnames\n",
    "csv_file = 'homogeneous/inputs/parameters_scenario1b.csv'\n",
    "fieldnames = ['pathogen', 'memory_window', 'behaviour_function', 'r', 'alpha', 'vaccine_efficacy']\n",
    "# Write the input parameters to the CSV file\n",
    "with open(csv_file, mode='w', newline='') as file:\n",
    "    writer = csv.DictWriter(file, fieldnames=fieldnames)\n",
    "    writer.writeheader()\n",
    "    for pathogen, memory_window, behaviour_function, r, alpha, vaccine_efficacy in itertools.product(pathogen, memory_window, behaviour_function, r, alpha, vaccine_efficacy):\n",
    "        writer.writerow({'pathogen': pathogen,'memory_window': memory_window,'behaviour_function': behaviour_function, 'r': r, 'alpha': alpha, 'vaccine_efficacy': vaccine_efficacy})\n",
    "\n",
    "# Run a large number of ratio of opinion to cost\n",
    "pathogen = ['sarscov2']\n",
    "memory_window = [0]\n",
    "behaviour_function = ['cases', 'deaths']\n",
    "# Resolution of 0.001\n",
    "r = [round(i, 3) for i in np.linspace(0.2, 0.5, 301)]\n",
    "alpha = [round(i, 3) for i in np.linspace(1, 1.6, 601)]\n",
    "vaccine_efficacy = [0.5]\n",
    "# Define the CSV file path and fieldnames\n",
    "csv_file = 'homogeneous/inputs/parameters_scenario1b_boundary_sarscov2.csv'\n",
    "fieldnames = ['pathogen', 'memory_window', 'behaviour_function', 'r', 'alpha', 'vaccine_efficacy']\n",
    "# Write the input parameters to the CSV file\n",
    "with open(csv_file, mode='w', newline='') as file:\n",
    "    writer = csv.DictWriter(file, fieldnames=fieldnames)\n",
    "    writer.writeheader()\n",
    "    for pathogen, memory_window, behaviour_function, r, alpha, vaccine_efficacy in itertools.product(pathogen, memory_window, behaviour_function, r, alpha, vaccine_efficacy):\n",
    "        writer.writerow({'pathogen': pathogen,'memory_window': memory_window,'behaviour_function': behaviour_function, 'r': r, 'alpha': alpha, 'vaccine_efficacy': vaccine_efficacy})\n",
    "\n",
    "# # Run a large number of ratio of opinion to cost (temporal)\n",
    "# pathogen = ['sarscov2']\n",
    "# memory_window = [0]\n",
    "# behaviour_function = ['cases', 'deaths']\n",
    "# r = [0.365, 0.366, 0.367, 0.368, 0.369, 0.370, 0.371, 0.372, 0.373]\n",
    "# alpha = [1.0]\n",
    "# vaccine_efficacy = [0.25, 0.5, 0.9]\n",
    "# # Define the CSV file path and fieldnames\n",
    "# csv_file = 'homogeneous/inputs/parameters_scenario1b_boundary_sarscov2_tmp.csv'\n",
    "# fieldnames = ['pathogen', 'memory_window', 'behaviour_function', 'r', 'alpha', 'vaccine_efficacy']\n",
    "# # Write the input parameters to the CSV file\n",
    "# with open(csv_file, mode='w', newline='') as file:\n",
    "#     writer = csv.DictWriter(file, fieldnames=fieldnames)\n",
    "#     writer.writeheader()\n",
    "#     for pathogen, memory_window, behaviour_function, r, alpha, vaccine_efficacy in itertools.product(pathogen, memory_window, behaviour_function, r, alpha, vaccine_efficacy):\n",
    "#         writer.writerow({'pathogen': pathogen,'memory_window': memory_window,'behaviour_function': behaviour_function, 'r': r, 'alpha': alpha, 'vaccine_efficacy': vaccine_efficacy})\n",
    "\n",
    "# # Run a large number of ratio of opinion to cost (temporal)\n",
    "# pathogen = ['sarscov2', 'ebola', 'influenza']\n",
    "# memory_window = [0]\n",
    "# behaviour_function = ['cases', 'deaths']\n",
    "# r = [round(i, 1) for i in [0,0.5,1,1.5,2]]\n",
    "# alpha = [round(i, 1) for i in [0,0.5,1,1.5,2]]\n",
    "# vaccine_efficacy = [0.5]\n",
    "# # Define the CSV file path and fieldnames\n",
    "# csv_file = 'homogeneous/inputs/parameters_scenario1b_boundary.csv'\n",
    "# fieldnames = ['pathogen', 'memory_window', 'behaviour_function', 'r', 'alpha', 'vaccine_efficacy']\n",
    "# # Write the input parameters to the CSV file\n",
    "# with open(csv_file, mode='w', newline='') as file:\n",
    "#     writer = csv.DictWriter(file, fieldnames=fieldnames)\n",
    "#     writer.writeheader()\n",
    "#     for pathogen, memory_window, behaviour_function, r, alpha, vaccine_efficacy in itertools.product(pathogen, memory_window, behaviour_function, r, alpha, vaccine_efficacy):\n",
    "#         writer.writerow({'pathogen': pathogen,'memory_window': memory_window,'behaviour_function': behaviour_function, 'r': r, 'alpha': alpha, 'vaccine_efficacy': vaccine_efficacy})\n",
    "\n",
    "# Run a range of ratios, alphas, and memory windows\n",
    "pathogen = ['sarscov2', 'ebola', 'influenza']\n",
    "memory_window = [0, 56, 28, 7, 1]\n",
    "behaviour_function = ['cases','deaths']\n",
    "r = [round(i, 1) for i in np.linspace(0, 2, 3)]\n",
    "alpha = [round(i, 1) for i in np.linspace(0, 2, 3)]\n",
    "vaccine_efficacy = [round(i, 2) for i in [0.25, 0.5, 0.9]]\n",
    "# Define the CSV file path and fieldnames\n",
    "csv_file = 'homogeneous/inputs/parameters_scenario2a.csv'\n",
    "fieldnames = ['pathogen', 'memory_window', 'behaviour_function', 'r', 'alpha', 'vaccine_efficacy']\n",
    "# Write the input parameters to the CSV file\n",
    "with open(csv_file, mode='w', newline='') as file:\n",
    "    writer = csv.DictWriter(file, fieldnames=fieldnames)\n",
    "    writer.writeheader()\n",
    "    for pathogen, memory_window, behaviour_function, r, alpha, vaccine_efficacy in itertools.product(pathogen, memory_window, behaviour_function, r, alpha, vaccine_efficacy):\n",
    "        writer.writerow({'pathogen': pathogen,'memory_window': memory_window,'behaviour_function': behaviour_function, 'r': r, 'alpha': alpha, 'vaccine_efficacy': vaccine_efficacy})\n",
    "\n",
    "# # Run a range of ratios, alphas, and memory windows\n",
    "# pathogen = ['sarscov2', 'ebola', 'influenza']\n",
    "# # list from 0 to 1000 in steps of 7\n",
    "# memory_window = list(range(0, 100, 1))\n",
    "# # Append 1 to the list\n",
    "# # memory_window.append(1)\n",
    "# # list from 1001 to 3000 in steps of 100\n",
    "# memory_window.extend(list(range(101, 3001, 100)))\n",
    "# # Remove duplicates from list\n",
    "# memory_window = list(set(memory_window))\n",
    "# behaviour_function = ['cases', 'deaths']\n",
    "# r = [round(i, 1) for i in [0]]\n",
    "# alpha = [round(i, 1) for i in [0.1,1,2]]\n",
    "# vaccine_efficacy = [round(i, 2) for i in [0.25, 0.5, 0.9]]\n",
    "# # Define the CSV file path and fieldnames\n",
    "# csv_file = 'homogeneous/inputs/parameters_scenario2b.csv'\n",
    "# fieldnames = ['pathogen', 'memory_window', 'behaviour_function', 'r', 'alpha', 'vaccine_efficacy']\n",
    "# # Write the input parameters to the CSV file\n",
    "# with open(csv_file, mode='w', newline='') as file:\n",
    "#     writer = csv.DictWriter(file, fieldnames=fieldnames)\n",
    "#     writer.writeheader()\n",
    "#     for pathogen, memory_window, behaviour_function, r, alpha, vaccine_efficacy in itertools.product(pathogen, memory_window, behaviour_function, r, alpha, vaccine_efficacy):\n",
    "#         writer.writerow({'pathogen': pathogen,'memory_window': memory_window,'behaviour_function': behaviour_function, 'r': r, 'alpha': alpha, 'vaccine_efficacy': vaccine_efficacy})\n",
    "\n",
    "# Run population split with 0.1 increments and vaccine efficacy\n",
    "pathogen = ['sarscov2', 'ebola', 'influenza']\n",
    "memory_window = [0]\n",
    "behaviour_function = ['cases', 'deaths']\n",
    "r = [round(i, 1) for i in np.linspace(0, 2, 3)]\n",
    "alpha = [round(i, 1) for i in [0, 0.5, 1, 1.5, 2]]\n",
    "vaccine_efficacy = [round(i, 2) for i in [0.25, 0.5, 0.9]]\n",
    "# Define the CSV file path and fieldnames\n",
    "csv_file = 'homogeneous/inputs/parameters_scenario2b_eff.csv'\n",
    "fieldnames = ['pathogen', 'memory_window', 'behaviour_function', 'r', 'alpha', 'vaccine_efficacy']\n",
    "# Write the input parameters to the CSV file\n",
    "with open(csv_file, mode='w', newline='') as file:\n",
    "    writer = csv.DictWriter(file, fieldnames=fieldnames)\n",
    "    writer.writeheader()\n",
    "    for pathogen, memory_window, behaviour_function, r, alpha, vaccine_efficacy in itertools.product(pathogen, memory_window,  behaviour_function, r, alpha, vaccine_efficacy):\n",
    "        writer.writerow({'pathogen': pathogen, 'memory_window': memory_window, 'behaviour_function': behaviour_function, 'r': r, 'alpha': alpha, 'vaccine_efficacy': vaccine_efficacy})"
   ]
  },
  {
   "cell_type": "code",
   "execution_count": 6,
   "metadata": {},
   "outputs": [],
   "source": [
    "%run src/SEIRV_model.py"
   ]
  },
  {
   "cell_type": "markdown",
   "metadata": {},
   "source": [
    "Write initial conditions (ICs) to file"
   ]
  },
  {
   "cell_type": "code",
   "execution_count": 7,
   "metadata": {},
   "outputs": [],
   "source": [
    "# Define the initial conditions\n",
    "S0 = 99999\n",
    "E0 = 0\n",
    "I0 = 1\n",
    "R0 = 0\n",
    "H0 = 0\n",
    "Sv0 = 0\n",
    "Ev0 = 0\n",
    "Iv0 = 0\n",
    "Rv0 = 0\n",
    "Hv0 = 0\n",
    "C0 = 1\n",
    "Cv0 = 0\n",
    "\n",
    "# Define the CSV file path and fieldnames\n",
    "csv_file = 'homogeneous/inputs/parameters_IC.csv'\n",
    "fieldnames = ['S0', 'E0', 'I0', 'R0', 'H0', 'Sv0', 'Ev0', 'Iv0', 'Rv0', 'Hv0', 'C0', 'Cv0']\n",
    "\n",
    "# Write the input parameters to the CSV file\n",
    "with open(csv_file, mode='w', newline='') as file:\n",
    "    writer = csv.DictWriter(file, fieldnames=fieldnames)\n",
    "    writer.writeheader()\n",
    "    writer.writerow({'S0': S0, 'E0': E0, 'I0': I0, 'R0': R0, 'H0': H0, 'Sv0': Sv0, 'Ev0': Ev0, 'Iv0': Iv0, 'Rv0': Rv0, 'Hv0': Hv0, 'C0': C0, 'Cv0': Cv0})"
   ]
  },
  {
   "cell_type": "markdown",
   "metadata": {},
   "source": [
    "Run model over simulation parameters"
   ]
  },
  {
   "cell_type": "code",
   "execution_count": 8,
   "metadata": {},
   "outputs": [
    {
     "name": "stdout",
     "output_type": "stream",
     "text": [
      "Simulation 1 of 6\n",
      "Simulation 2 of 6\n"
     ]
    },
    {
     "name": "stderr",
     "output_type": "stream",
     "text": [
      "/Users/rachelseibel/Documents/Documents - Rachel’s MacBook Pro - 1/Git/public-health-model/src/main.py:73: FutureWarning: The behavior of DataFrame concatenation with empty or all-NA entries is deprecated. In a future version, this will no longer exclude empty or all-NA columns when determining the result dtypes. To retain the old behavior, exclude the relevant entries before the concat operation.\n",
      "  df_results = pd.concat([df_results, df_newsim], axis=0)\n",
      "/Users/rachelseibel/Documents/Documents - Rachel’s MacBook Pro - 1/Git/public-health-model/src/main.py:99: FutureWarning: The behavior of DataFrame concatenation with empty or all-NA entries is deprecated. In a future version, this will no longer exclude empty or all-NA columns when determining the result dtypes. To retain the old behavior, exclude the relevant entries before the concat operation.\n",
      "  df_temporal = pd.concat([df_temporal, df_temporal_new], axis=0)\n"
     ]
    },
    {
     "name": "stdout",
     "output_type": "stream",
     "text": [
      "Simulation 3 of 6\n",
      "Simulation 4 of 6\n",
      "Simulation 5 of 6\n",
      "Simulation 6 of 6\n"
     ]
    }
   ],
   "source": [
    "%run src/main.py"
   ]
  },
  {
   "cell_type": "markdown",
   "metadata": {},
   "source": [
    "Save outputs as csv files"
   ]
  },
  {
   "cell_type": "markdown",
   "metadata": {},
   "source": []
  },
  {
   "cell_type": "code",
   "execution_count": 9,
   "metadata": {},
   "outputs": [],
   "source": [
    "# Save the results to a CSV file\n",
    "# df_results.to_csv('homogeneous/outputs/S1A/results.csv')\n",
    "# df_temporal.to_csv('homogeneous/outputs/S1A/temporal.csv')\n",
    "# df_results.to_csv('homogeneous/outputs/S1B/results.csv')\n",
    "# df_results.to_csv('homogeneous/outputs/S1B/results_boundary_sarscov2.csv')\n",
    "# df_temporal.to_csv('homogeneous/outputs/S1B/temporal_boundary_sarscov2.csv')\n",
    "# df_temporal.to_csv('homogeneous/outputs/S1B/temporal.csv')\n",
    "# df_temporal.to_csv('homogeneous/outputs/S1B/temporal_boundary.csv')\n",
    "# df_results.to_csv('homogeneous/outputs/S2A/results.csv')\n",
    "# df_temporal.to_csv('homogeneous/outputs/S2A/temporal.csv')\n",
    "# df_results.to_csv('homogeneous/outputs/S2B/results_eff.csv')\n",
    "# df_temporal.to_csv('homogeneous/outputs/S2B/temporal_eff.csv')"
   ]
  }
 ],
 "metadata": {
  "kernelspec": {
   "display_name": "public-health-env",
   "language": "python",
   "name": "python3"
  },
  "language_info": {
   "codemirror_mode": {
    "name": "ipython",
    "version": 3
   },
   "file_extension": ".py",
   "mimetype": "text/x-python",
   "name": "python",
   "nbconvert_exporter": "python",
   "pygments_lexer": "ipython3",
   "version": "3.11.5"
  },
  "orig_nbformat": 4
 },
 "nbformat": 4,
 "nbformat_minor": 2
}
